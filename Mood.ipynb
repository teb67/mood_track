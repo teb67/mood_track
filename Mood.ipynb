{
 "cells": [
  {
   "cell_type": "markdown",
   "id": "82c48815",
   "metadata": {},
   "source": [
    "# Talin Bedonian\n",
    "## Mood Tracker"
   ]
  },
  {
   "cell_type": "markdown",
   "id": "bf9ef644",
   "metadata": {},
   "source": [
    "Welcome to Mood Tracker! In the cell below, the database and Mood_Tracker table are created. The database and table store the names of patients, moods tracked, and dates when the mood is tracked. The database and table are created using a public library called SQLite3. Datetime is also imported to mark the date in which the patient tracks their mood"
   ]
  },
  {
   "cell_type": "code",
   "execution_count": 4,
   "id": "9e414116",
   "metadata": {},
   "outputs": [
    {
     "data": {
      "text/plain": [
       "<sqlite3.Cursor at 0x2bbeb905030>"
      ]
     },
     "execution_count": 4,
     "metadata": {},
     "output_type": "execute_result"
    }
   ],
   "source": [
    "import datetime\n",
    "import sqlite3\n",
    "con = sqlite3.connect('mood.db')\n",
    "cur = con.cursor()\n",
    "\n",
    "cur.execute('''CREATE TABLE Mood_Tracker(name text, mood real, date timestamp)''')\n",
    "\n",
    "#cur.execute('''drop TABLE Mood_Tracker''')"
   ]
  },
  {
   "cell_type": "markdown",
   "id": "d00dfe5a",
   "metadata": {},
   "source": [
    "In this next cell, the patient enters their name and tracks their mood for the day on a scale of 1-10, 10 being the happiest mood. The moods are converted into numbers so that statistics, such as averages, can be calculated to see a patient's weekly mood or whether there is a downward trend in mood that would require extra assistance from their care provider."
   ]
  },
  {
   "cell_type": "code",
   "execution_count": 22,
   "id": "6b574fb6",
   "metadata": {},
   "outputs": [
    {
     "name": "stdout",
     "output_type": "stream",
     "text": [
      "Welcome to Mood Tracker\n",
      "Please enter your name:\n",
      "Ann\n",
      "On a scale of 1-10, 10 being the happiest, please rate how happy you are feeling today\n",
      "4\n",
      "Thank you for tracking your mood today\n"
     ]
    }
   ],
   "source": [
    "print('Welcome to Mood Tracker')\n",
    "date = datetime.date.today()\n",
    "user_id = str(input('Please enter your name:\\n'))\n",
    "mood = str(input('On a scale of 1-10, 10 being the happiest, please rate how happy you are feeling today\\n'))\n",
    "print('Thank you for tracking your mood today')"
   ]
  },
  {
   "cell_type": "markdown",
   "id": "ebb5c05c",
   "metadata": {},
   "source": [
    "In the cell below, the previous variables are inserted into the mood tracker table. I made the decision to not replace any values if the same user tracked their mood multiple times a day. I made this decision because it would be important for a care provider to see if a patient's mood changes drastically throughout the same day and provide the necessary steps to take care of the patient."
   ]
  },
  {
   "cell_type": "code",
   "execution_count": 23,
   "id": "7d5759d3",
   "metadata": {},
   "outputs": [
    {
     "data": {
      "text/plain": [
       "<sqlite3.Cursor at 0x2bbeb905030>"
      ]
     },
     "execution_count": 23,
     "metadata": {},
     "output_type": "execute_result"
    }
   ],
   "source": [
    "a = user_id\n",
    "b = mood\n",
    "c = date\n",
    "\n",
    "cur.execute('''INSERT INTO Mood_Tracker VALUES (?, ?, ?) ''', (a, b, c))"
   ]
  },
  {
   "cell_type": "code",
   "execution_count": 30,
   "id": "a8a7a7da",
   "metadata": {},
   "outputs": [
    {
     "name": "stdout",
     "output_type": "stream",
     "text": [
      "[('Talin', 5.0, '2021-11-21'), ('Talin', 5.0, '2021-11-21'), ('Talin', 6.0, '2021-11-21'), ('Ann', 4.0, '2021-11-21')]\n"
     ]
    }
   ],
   "source": [
    "cur.execute('''Select * from Mood_Tracker''')\n",
    "print(cur.fetchall())"
   ]
  },
  {
   "cell_type": "markdown",
   "id": "cbef046d",
   "metadata": {},
   "source": [
    "The statement below deletes the rows from the table if necessary."
   ]
  },
  {
   "cell_type": "code",
   "execution_count": 26,
   "id": "6dd658e3",
   "metadata": {},
   "outputs": [
    {
     "data": {
      "text/plain": [
       "<sqlite3.Cursor at 0x21046b27f80>"
      ]
     },
     "execution_count": 26,
     "metadata": {},
     "output_type": "execute_result"
    }
   ],
   "source": [
    "cur.execute('''Delete from Mood_Tracker''')"
   ]
  },
  {
   "cell_type": "markdown",
   "id": "919ea1ed",
   "metadata": {},
   "source": [
    "In the cell below is code that will determine how long a patient's streak is. The streak is determined by how many consecutive days a patient tracks their mood, no matter where their mood is on the scale."
   ]
  },
  {
   "cell_type": "code",
   "execution_count": 32,
   "id": "91e10c4b",
   "metadata": {},
   "outputs": [
    {
     "name": "stdout",
     "output_type": "stream",
     "text": [
      "Please enter patient name:\n",
      "Talin\n",
      "[('Talin', '2021-11-21')]\n"
     ]
    }
   ],
   "source": [
    "name = str(input('Please enter patient name:\\n'))\n",
    "\n",
    "cur.execute('''SELECT name, date from Mood_Tracker where name == Name group by 2''')\n",
    "print(cur.fetchall())"
   ]
  },
  {
   "cell_type": "markdown",
   "id": "80c3521d",
   "metadata": {},
   "source": [
    "Here, we see the days in which the selected person tracked their mood. We can then determine the patient's mood-tracking streak. In the list produced above, we only see one date, so the streak is one day long. As a patient continues to track their mood, the streak will increase. If there is a jump in dates when the list is fetched in the cell above, then that means the streak starts over again."
   ]
  },
  {
   "cell_type": "markdown",
   "id": "5c633948",
   "metadata": {},
   "source": [
    "If I were to do this project differently, I would find an automated way to take the dates from the table I created with sqlite in order to actually count the number of consecutive days a patient tracks their mood in order to find their streak. I would also find a way to create a REST API in order to finish this project."
   ]
  }
 ],
 "metadata": {
  "kernelspec": {
   "display_name": "Python 3",
   "language": "python",
   "name": "python3"
  },
  "language_info": {
   "codemirror_mode": {
    "name": "ipython",
    "version": 3
   },
   "file_extension": ".py",
   "mimetype": "text/x-python",
   "name": "python",
   "nbconvert_exporter": "python",
   "pygments_lexer": "ipython3",
   "version": "3.8.8"
  }
 },
 "nbformat": 4,
 "nbformat_minor": 5
}
